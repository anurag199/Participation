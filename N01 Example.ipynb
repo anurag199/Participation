{
 "cells": [
  {
   "cell_type": "markdown",
   "metadata": {},
   "source": [
    "# Introduction\n",
    "--------------\n",
    "\n",
    "This Notebook is the simplest example for how to run one single piece of code in Python for the course. Edit someting.\n"
   ]
  },
  {
   "cell_type": "code",
   "execution_count": 1,
   "metadata": {},
   "outputs": [
    {
     "name": "stdout",
     "output_type": "stream",
     "text": [
      "\n",
      " Hello Everyone, My name is Anurag Dhansingh Rajpurohit. I am a Masters student at Lakehead University. I am from India.\n"
     ]
    }
   ],
   "source": [
    "#program for simple print of text\n",
    "txt=\"My name is Anurag Dhansingh Rajpurohit.\"\n",
    "txt2=\" I am a Masters student at Lakehead University.\"\n",
    "txt3=\" I am from India.\"\n",
    "print('\\n Hello Everyone, '+txt+txt2+txt3)"
   ]
  },
  {
   "cell_type": "markdown",
   "metadata": {},
   "source": [
    "Simple program for printing of text"
   ]
  },
  {
   "cell_type": "code",
   "execution_count": 2,
   "metadata": {},
   "outputs": [
    {
     "name": "stdout",
     "output_type": "stream",
     "text": [
      "Enter a number: 3\n",
      "Enter a number: 5\n",
      "Enter a number: 7\n",
      "Enter a number: 2\n",
      "The multiplication is 210\n"
     ]
    }
   ],
   "source": [
    "#This is program for multiplication\n",
    "mul = 1\n",
    "i = 0\n",
    "while i < 4:\n",
    "    n=(input(\"Enter a number: \"))\n",
    "    i = i + 1\n",
    "    mul = mul * n\n",
    "print (\"The multiplication is \" + str(mul))\n"
   ]
  },
  {
   "cell_type": "markdown",
   "metadata": {},
   "source": [
    "The program shows multiplication using while loop "
   ]
  },
  {
   "cell_type": "code",
   "execution_count": 3,
   "metadata": {},
   "outputs": [
    {
     "name": "stdout",
     "output_type": "stream",
     "text": [
      "('data :', 'Firstname', 'Anurag')\n",
      "('data :', 'Lastname', 'Rajpurohit')\n"
     ]
    }
   ],
   "source": [
    "list1=['Firstname','Lastname']\n",
    "list2=['Anurag','Rajpurohit']\n",
    "print(\"data :\",list1[0],list2[0])\n",
    "print(\"data :\",list1[1],list2[1])"
   ]
  },
  {
   "cell_type": "markdown",
   "metadata": {},
   "source": [
    "The notebook shows the use of list and printing the values from the list"
   ]
  },
  {
   "cell_type": "markdown",
   "metadata": {},
   "source": [
    "We just ran our first Python code on a notebook!\n",
    "\n",
    "Test your knowledge:\n",
    "\n",
    "* Execute 3 of the code examples in the tutorial and add some Markdown cells\n"
   ]
  },
  {
   "cell_type": "code",
   "execution_count": null,
   "metadata": {
    "collapsed": true
   },
   "outputs": [],
   "source": []
  }
 ],
 "metadata": {
  "anaconda-cloud": {},
  "kernelspec": {
   "display_name": "Python 2",
   "language": "python",
   "name": "python2"
  },
  "language_info": {
   "codemirror_mode": {
    "name": "ipython",
    "version": 2
   },
   "file_extension": ".py",
   "mimetype": "text/x-python",
   "name": "python",
   "nbconvert_exporter": "python",
   "pygments_lexer": "ipython2",
   "version": "2.7.13"
  }
 },
 "nbformat": 4,
 "nbformat_minor": 1
}
